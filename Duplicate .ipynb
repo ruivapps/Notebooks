{
 "cells": [
  {
   "cell_type": "markdown",
   "metadata": {},
   "source": [
    "# Contains Duplicate \n",
    "\n",
    "Given an integer array nums and an integer k, return true if there are two distinct indices i and j in the array such that nums[i] == nums[j] and abs(i - j) <= k.\n",
    "\n",
    "Example 1:\n",
    "\n",
    "```\n",
    "Input: nums = [1,2,3,1], k = 3\n",
    "Output: true\n",
    "```\n",
    "\n",
    "Example 2:\n",
    "\n",
    "```\n",
    "Input: nums = [1,0,1,1], k = 1\n",
    "Output: true\n",
    "```\n",
    "\n",
    "Example 3:\n",
    "\n",
    "```\n",
    "Input: nums = [1,2,3,1,2,3], k = 2\n",
    "Output: false\n",
    "```\n",
    "\n",
    "Constraints:\n",
    "\n",
    "```\n",
    "1 <= nums.length <= 105\n",
    "-109 <= nums[i] <= 109\n",
    "0 <= k <= 105\n",
    "```"
   ]
  },
  {
   "cell_type": "code",
   "execution_count": 1,
   "metadata": {},
   "outputs": [],
   "source": [
    "def check_duplicate(nums:list[int], k:int)->bool:\n",
    "    \"\"\" check duplicate \n",
    "    \"\"\"\n",
    "    record = {}\n",
    "    for idx, value in enumerate(nums):\n",
    "        if value in record and abs(record[value]-idx) <=k:\n",
    "            return True\n",
    "        record[value] = idx\n",
    "    return False"
   ]
  },
  {
   "cell_type": "code",
   "execution_count": 2,
   "metadata": {},
   "outputs": [
    {
     "name": "stdout",
     "output_type": "stream",
     "text": [
      "True\n",
      "True\n",
      "False\n"
     ]
    }
   ],
   "source": [
    "print(check_duplicate(nums=[1,2,3,1], k=3))\n",
    "print(check_duplicate(nums=[1,0,1,1], k=1))\n",
    "print(check_duplicate(nums=[1,2,3,1,2,3], k=2))"
   ]
  },
  {
   "cell_type": "code",
   "execution_count": 3,
   "metadata": {},
   "outputs": [],
   "source": [
    "def check_duplicate2(nums:list[int], k:int)->bool:\n",
    "    \"\"\" check duplicate \n",
    "    \"\"\"\n",
    "    record = {}\n",
    "    for i, value in enumerate(nums):\n",
    "        if value in record:\n",
    "            j = record[value]\n",
    "            if abs(i-j)<=k:\n",
    "                return True\n",
    "        record[value] = i\n",
    "    return False"
   ]
  },
  {
   "cell_type": "code",
   "execution_count": 4,
   "metadata": {},
   "outputs": [
    {
     "name": "stdout",
     "output_type": "stream",
     "text": [
      "True\n",
      "True\n",
      "False\n"
     ]
    }
   ],
   "source": [
    "print(check_duplicate2(nums=[1,2,3,1], k=3))\n",
    "print(check_duplicate2(nums=[1,0,1,1], k=1))\n",
    "print(check_duplicate2(nums=[1,2,3,1,2,3], k=2))"
   ]
  },
  {
   "cell_type": "code",
   "execution_count": null,
   "metadata": {},
   "outputs": [],
   "source": []
  }
 ],
 "metadata": {
  "kernelspec": {
   "display_name": "Python 3 (ipykernel)",
   "language": "python",
   "name": "python3"
  },
  "language_info": {
   "codemirror_mode": {
    "name": "ipython",
    "version": 3
   },
   "file_extension": ".py",
   "mimetype": "text/x-python",
   "name": "python",
   "nbconvert_exporter": "python",
   "pygments_lexer": "ipython3",
   "version": "3.11.0"
  }
 },
 "nbformat": 4,
 "nbformat_minor": 2
}
