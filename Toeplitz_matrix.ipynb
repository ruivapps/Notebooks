{
 "cells": [
  {
   "cell_type": "markdown",
   "metadata": {},
   "source": [
    "# Toeplitz Matrix \n",
    "\n",
    "Toeplitz Matrix is a special type of matrix in which each descending diagonal from left to right is constant. For example \n",
    "\n",
    "```python\n",
    "matrix = [\n",
    "    ['a', 'b', 'c', 'd', 'e'],\n",
    "    ['x', 'a', 'y', 'z', 't'],\n",
    "    ['e', 'e', 'a', 'b', 'c'],\n",
    "    ['b', 'b', 'b', 'a', 'x'],\n",
    "    ['x', 'y', 'z', 'b', 'a'],\n",
    "]\n",
    "\n",
    "matrix2 = [\n",
    "    [1, 2, 3, 4, 5],\n",
    "    [2, 1, 3, 4, 5],\n",
    "    [3, 2, 1, 4, 5],\n",
    "    [4, 3, 2, 1, 5],\n",
    "    [5, 4, 3, 2, 1],\n",
    "]\n",
    "```\n",
    "\n",
    "the element \"a\" in **matrix** and the number \"1\" in matrix2 make them Toepliz Matrix. \n",
    "\n",
    "```\n",
    "['a', , , , ,]\n",
    "[, 'a', , , ,]\n",
    "[, , 'a', , ,]\n",
    "[, , , 'a', ,]\n",
    "[, , , , 'a',]\n",
    "\n",
    "[1, , , , ,]\n",
    "[, 1, , , ,]\n",
    "[, , 1, , ,]\n",
    "[, , , 1, ,]\n",
    "[, , , , 1,]\n",
    "```\n"
   ]
  },
  {
   "cell_type": "code",
   "execution_count": 1,
   "metadata": {},
   "outputs": [],
   "source": [
    "matrix = [\n",
    "    ['a', 'b', 'c', 'd', 'e'],\n",
    "    ['x', 'a', 'y', 'z', 't'],\n",
    "    ['e', 'e', 'a', 'b', 'c'],\n",
    "    ['b', 'b', 'b', 'a', 'x'],\n",
    "    ['x', 'y', 'z', 'b', 'a'],\n",
    "]\n",
    "\n",
    "matrix2 = [\n",
    "    [1, 2, 3, 4, 5],\n",
    "    [2, 1, 3, 4, 5],\n",
    "    [3, 2, 1, 4, 5],\n",
    "    [4, 3, 2, 1, 5],\n",
    "    [5, 4, 3, 2, 1],\n",
    "]\n"
   ]
  },
  {
   "cell_type": "code",
   "execution_count": 2,
   "metadata": {},
   "outputs": [],
   "source": [
    "def is_toeplitz(matrix):\n",
    "    \"\"\" check if the matrix is toeplitz\n",
    "    \"\"\"\n",
    "    key = matrix[0][0]\n",
    "    pos = 0\n",
    "    for item in matrix:\n",
    "        if item[pos] != key:\n",
    "            return False\n",
    "        pos += 1\n",
    "    return True"
   ]
  },
  {
   "cell_type": "code",
   "execution_count": 3,
   "metadata": {},
   "outputs": [
    {
     "name": "stdout",
     "output_type": "stream",
     "text": [
      "True\n",
      "True\n"
     ]
    }
   ],
   "source": [
    "print(is_toeplitz(matrix))\n",
    "print(is_toeplitz(matrix2))"
   ]
  },
  {
   "cell_type": "code",
   "execution_count": 4,
   "metadata": {},
   "outputs": [
    {
     "name": "stdout",
     "output_type": "stream",
     "text": [
      "False\n"
     ]
    }
   ],
   "source": [
    "from copy import deepcopy \n",
    "matrix3 = deepcopy(matrix2)\n",
    "matrix3[1][1] = 0\n",
    "print(is_toeplitz(matrix3))"
   ]
  },
  {
   "cell_type": "code",
   "execution_count": 5,
   "metadata": {},
   "outputs": [],
   "source": [
    "from typing import Any\n",
    "def improved_is_toeplitz(matrix:list[list[Any]])->bool:\n",
    "    \"\"\" imporve our toeplitz\n",
    "    \"\"\"\n",
    "    if not isinstance(matrix, list):\n",
    "        raise TypeError('matrix must be a list')\n",
    "    for item in matrix:\n",
    "        if not isinstance(item, list):\n",
    "            raise TypeError('each element in matrix must be a list')\n",
    "    key = matrix[0][0]\n",
    "    pos = 0\n",
    "    for item in matrix:\n",
    "        if len(item) < pos:\n",
    "            return False \n",
    "        if item[pos] != key:\n",
    "            return False \n",
    "        pos +=1 \n",
    "    return True "
   ]
  },
  {
   "cell_type": "code",
   "execution_count": 6,
   "metadata": {},
   "outputs": [
    {
     "name": "stdout",
     "output_type": "stream",
     "text": [
      "True\n",
      "True\n",
      "False\n"
     ]
    }
   ],
   "source": [
    "for m in [matrix, matrix2, matrix3]:\n",
    "    print(improved_is_toeplitz(m))"
   ]
  },
  {
   "cell_type": "code",
   "execution_count": null,
   "metadata": {},
   "outputs": [],
   "source": []
  }
 ],
 "metadata": {
  "kernelspec": {
   "display_name": "Python 3 (ipykernel)",
   "language": "python",
   "name": "python3"
  },
  "language_info": {
   "codemirror_mode": {
    "name": "ipython",
    "version": 3
   },
   "file_extension": ".py",
   "mimetype": "text/x-python",
   "name": "python",
   "nbconvert_exporter": "python",
   "pygments_lexer": "ipython3",
   "version": "3.11.0"
  }
 },
 "nbformat": 4,
 "nbformat_minor": 2
}
