{
 "cells": [
  {
   "cell_type": "markdown",
   "metadata": {},
   "source": [
    "# Longest Common Prefix\n",
    "\n",
    "```python\n",
    "strs = [\"flower\",\"flow\",\"flight\"]\n",
    ">>> \"fl\"\n",
    "\n",
    "strs = [\"dog\",\"racecar\",\"car\"]\n",
    ">>> \"\"\n",
    "\n",
    "1 <= strs.length <= 200\n",
    "0 <= strs[i].length <= 200\n",
    "\n",
    "strs[i] == strs[i].lower()\n",
    "```\n",
    "\n",
    "The length of **longest** common prefix can only <= the shortest item. we can sort the list and start to checking the common prefix from the one with minimum length "
   ]
  },
  {
   "cell_type": "code",
   "execution_count": 4,
   "metadata": {},
   "outputs": [],
   "source": [
    "strs = [\"flower\",\"flow\",\"flight\"]\n",
    "strs2 = [\"dog\",\"racecar\",\"car\"]"
   ]
  },
  {
   "cell_type": "code",
   "execution_count": 5,
   "metadata": {},
   "outputs": [],
   "source": [
    "def longest_common_prefix(array:list[str])->str:\n",
    "    \"\"\" find the longest common prefix \n",
    "    \"\"\"\n",
    "    array.sort(key=lambda x: len(x))\n",
    "    common = array[0]\n",
    "    while common:\n",
    "        if False in [i.startswith(common) for i in array]:\n",
    "            common = common[:-1]\n",
    "        else:\n",
    "            return common\n",
    "    return common\n",
    "        \n",
    "       "
   ]
  },
  {
   "cell_type": "code",
   "execution_count": 6,
   "metadata": {},
   "outputs": [
    {
     "name": "stdout",
     "output_type": "stream",
     "text": [
      "True\n",
      "True\n"
     ]
    }
   ],
   "source": [
    "print(longest_common_prefix(strs)=='fl')\n",
    "print(longest_common_prefix(strs2)=='')\n"
   ]
  },
  {
   "cell_type": "code",
   "execution_count": null,
   "metadata": {},
   "outputs": [],
   "source": []
  }
 ],
 "metadata": {
  "kernelspec": {
   "display_name": "Python 3 (ipykernel)",
   "language": "python",
   "name": "python3"
  },
  "language_info": {
   "codemirror_mode": {
    "name": "ipython",
    "version": 3
   },
   "file_extension": ".py",
   "mimetype": "text/x-python",
   "name": "python",
   "nbconvert_exporter": "python",
   "pygments_lexer": "ipython3",
   "version": "3.11.0"
  }
 },
 "nbformat": 4,
 "nbformat_minor": 2
}
