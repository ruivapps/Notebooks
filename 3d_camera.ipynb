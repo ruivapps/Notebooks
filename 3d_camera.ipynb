{
 "cells": [
  {
   "cell_type": "markdown",
   "metadata": {},
   "source": [
    "# Steroscopic Image \n",
    "\n",
    "MPO file is a stereoscopic image that consists of two 2D .JPG images that are combined into one 3D image.\n",
    "It may be created by digital cameras such as the Fujifilm FinePix Real 3D series or Nintendo 3DS.\n",
    "\n",
    "The MPO format was developed by The Camera & Imaging Products Association (CIPA).\n",
    "The specification actually allows for any number of JPG files to be saved in an MPO file,\n",
    "but the most common use is for stereoscopic images.\n",
    "Digital cameras that support the Multi Picture Object images include the Fujifilm FinePix Real 3D series cameras.\n",
    "\n",
    "Standard JPG image viewers can also open MPO files, but you may only see one of the two images, generally the left image.\n",
    "\n",
    "The files can also be converted to an anaglyph image and then viewed with red/green 3D glasses\n",
    "\n",
    "Pillow identifies and reads Multi Picture Object (MPO) files, loading the primary image when first opened.\n",
    "The seek() and tell() methods may be used to read other pictures from the file.\n",
    "The pictures are zero-indexed and random access is supported.\n",
    "\n",
    "index 0: left (red)\n",
    "index 1: right (cyan)\n",
    "\n",
    "use Pillow to process image and blend_modes to blend the image to anaglyph image\n",
    "\n",
    "requires the PIL, numpy and blend_modes module "
   ]
  },
  {
   "cell_type": "code",
   "execution_count": null,
   "metadata": {},
   "outputs": [],
   "source": [
    "!pip install blend_modes"
   ]
  },
  {
   "cell_type": "code",
   "execution_count": 1,
   "metadata": {},
   "outputs": [],
   "source": [
    "import os\n",
    "from dataclasses import dataclass\n",
    "import blend_modes  # type: ignore\n",
    "import numpy as np\n",
    "from PIL import Image"
   ]
  },
  {
   "cell_type": "markdown",
   "metadata": {},
   "source": [
    "## image matrix:\n",
    "\n",
    "* newRed   = 1*oldRed  +  0*oldGreen  +  0*oldBlue  + constant\n",
    "* newGreen = 0*oldRed  +  1*OldGreen  +  0*OldBlue  + constant\n",
    "* newBlue  = 0*oldRed  +  0*OldGreen  +  1*OldBlue  + constant"
   ]
  },
  {
   "cell_type": "code",
   "execution_count": 2,
   "metadata": {},
   "outputs": [],
   "source": [
    "RED = (1, 0, 0, 0,\n",
    "       0, 0, 0, 0,\n",
    "       0, 0, 0, 0)\n",
    "CYAN = (0, 0, 0, 0,\n",
    "        0, 1, 0, 0,\n",
    "        0, 0, 1, 0)\n",
    "\n",
    "DEBUG = False\n"
   ]
  },
  {
   "cell_type": "code",
   "execution_count": 3,
   "metadata": {},
   "outputs": [],
   "source": [
    "@dataclass \n",
    "class ImageFile:\n",
    "    name: str\n",
    "    left: str|None = None\n",
    "    right: str|None = None\n",
    "    blend: str|None = None \n",
    "        \n",
    "    def __post_init__(self):\n",
    "        path, base = os.path.split(self.name)\n",
    "        base = '.'.join(base.split('.')[:-1])\n",
    "        self.left = f'{path}/{base}-left.png'\n",
    "        self.right = f'{path}/{base}-right.png'\n",
    "        self.blend = f'{path}/{base}-blend.png'"
   ]
  },
  {
   "cell_type": "code",
   "execution_count": 4,
   "metadata": {},
   "outputs": [],
   "source": [
    "def split_mpo(image_file:ImageFile)->None:\n",
    "    \"\"\" split mpo into left.jg and right.jpg \n",
    "    \"\"\"\n",
    "    left_image = 0\n",
    "    right_image = 1\n",
    "    \n",
    "    image = Image.open(image_file.name)\n",
    "    if image.format != 'MPO':\n",
    "        raise ValueError('not MPO image')\n",
    "    try:\n",
    "        image.seek(right_image)\n",
    "    except EOFError:\n",
    "        # pylint: disable=raise-missing-from\n",
    "        raise EOFError('not seekable')\n",
    "    image.save(image_file.right)\n",
    "    image.seek(left_image)\n",
    "    image.save(image_file.left)"
   ]
  },
  {
   "cell_type": "code",
   "execution_count": 5,
   "metadata": {},
   "outputs": [],
   "source": [
    "def blend_image(image_file:ImageFile)->None:\n",
    "    \"\"\" blend image \n",
    "    \"\"\"\n",
    "    left_image = Image.open(image_file.left)\n",
    "    right_image = Image.open(image_file.right)\n",
    "    \n",
    "    left_red_image = left_image.convert(mode='RGB', matrix=RED)\n",
    "    right_cyan_image = right_image.convert(mode='RGB', matrix=CYAN)\n",
    "    \n",
    "    image1 = left_red_image.convert(mode='RGBA')\n",
    "    image2 = right_cyan_image.convert(mode='RGBA')\n",
    "    image1_np = np.array(image1).astype(float)\n",
    "    image2_np = np.array(image2).astype(float)\n",
    "\n",
    "    blended_image_np = blend_modes.difference(  # type: ignore\n",
    "        image1_np, image2_np, opacity=1)\n",
    "    blended_image = Image.fromarray(np.uint8(blended_image_np))  # type:ignore\n",
    "    blended_image.save(image_file.blend)"
   ]
  },
  {
   "cell_type": "code",
   "execution_count": null,
   "metadata": {},
   "outputs": [],
   "source": [
    "image_file = ImageFile('Pics/001.mpo')\n",
    "split_mpo(image_file)\n",
    "blend_image(image_file)\n",
    "\n",
    "img = Image.open(image_file.blend)\n",
    "img.show()"
   ]
  },
  {
   "cell_type": "code",
   "execution_count": null,
   "metadata": {},
   "outputs": [],
   "source": []
  }
 ],
 "metadata": {
  "kernelspec": {
   "display_name": "Python 3 (ipykernel)",
   "language": "python",
   "name": "python3"
  },
  "language_info": {
   "codemirror_mode": {
    "name": "ipython",
    "version": 3
   },
   "file_extension": ".py",
   "mimetype": "text/x-python",
   "name": "python",
   "nbconvert_exporter": "python",
   "pygments_lexer": "ipython3",
   "version": "3.11.0"
  }
 },
 "nbformat": 4,
 "nbformat_minor": 2
}
