{
 "cells": [
  {
   "cell_type": "markdown",
   "id": "558a7d1a-07c9-4832-a8f0-726dbf774bdf",
   "metadata": {},
   "source": [
    "# Diameter of Binary Tree\n",
    "\n",
    "https://leetcode.com/problems/diameter-of-binary-tree/\n",
    "\n",
    "Given the root of a binary tree, return the length of the diameter of the tree.\n",
    "\n",
    "The diameter of a binary tree is the length of the longest path between any two nodes in a tree. This path may or may not pass through the root.\n",
    "\n",
    "The length of a path between two nodes is represented by the number of edges between them.\n",
    "\n",
    "```\n",
    "Input: root = [1,2,3,4,5]\n",
    "Output: 3\n",
    "Explanation: 3 is the length of the path [4,2,1,3] or [5,2,1,3].\n",
    "\n",
    "Input: root = [1,2]\n",
    "Output: 1\n",
    "```\n"
   ]
  },
  {
   "cell_type": "code",
   "execution_count": 1,
   "id": "bffa1e02-fe51-432d-9481-9bd93b69bece",
   "metadata": {},
   "outputs": [],
   "source": [
    "import logging\n",
    "logging.basicConfig(level=logging.DEBUG)\n"
   ]
  },
  {
   "cell_type": "code",
   "execution_count": 2,
   "id": "322a3be2-247a-4628-9f2c-ee8952f9a34f",
   "metadata": {},
   "outputs": [],
   "source": [
    "class Node:\n",
    "    \"\"\" our node\n",
    "    \"\"\"\n",
    "    def __init__(self, value, left=None, right=None):\n",
    "        self.value = value\n",
    "        self.left = left\n",
    "        self.right = right\n",
    "\n",
    "    def __repr__(self)->str:\n",
    "        return str(self.value)\n",
    "        \n",
    "# node checking flag\n",
    "CHECKED = True\n",
    "UNCHECKED = False"
   ]
  },
  {
   "cell_type": "code",
   "execution_count": 3,
   "id": "d89ef89f-70ae-4f02-a868-a77536175ea7",
   "metadata": {},
   "outputs": [],
   "source": [
    "node1 = Node(1)\n",
    "node1.left = Node(2)\n",
    "node1.right = Node(3)\n",
    "node1.left.left = Node(4)\n",
    "node1.left.right = Node(5)\n",
    "\n",
    "node2 = Node(1)\n",
    "node2.left = Node(2)\n",
    "\n",
    "node3 = Node(1)\n",
    "node3.left = Node(7)\n",
    "node3.left.left = Node(2)\n",
    "node3.left.right = Node(6)\n",
    "node3.left.right.left = Node(5)\n",
    "node3.left.right.right = Node(11)\n",
    "node3.right = Node(9)\n",
    "node3.right.right = Node(9)\n",
    "node3.right.right.left = Node(5)\n"
   ]
  },
  {
   "cell_type": "code",
   "execution_count": 4,
   "id": "b4001f39-cfa3-48ab-8846-6fccf4929fef",
   "metadata": {},
   "outputs": [],
   "source": [
    "def binary_tree_length(root:Node)->int:\n",
    "    \"\"\" find the longest path between any node in a tree\n",
    "    \"\"\"\n",
    "    length = 0\n",
    "    stack = []\n",
    "    if not root.left and not root.right:\n",
    "        return length\n",
    "    # add root node, node has left and right unchecked \n",
    "    stack.append((root, UNCHECKED, UNCHECKED)) \n",
    "    while stack:\n",
    "        # get the last node in stack\n",
    "        node, left, right = stack.pop()\n",
    "        if left is UNCHECKED:\n",
    "            # push the node back to the stack and mark the left is checked \n",
    "            stack.append((node, CHECKED, right))\n",
    "            # now we are really checking the left node \n",
    "            if node.left is not None:\n",
    "                # if we have the left node. then we will add it to stack \n",
    "                logging.debug('in left check, adding node: %s', node.left)\n",
    "                stack.append((node.left, UNCHECKED, UNCHECKED))\n",
    "        elif right is UNCHECKED:\n",
    "            # now we check the right node the same as the left node \n",
    "            stack.append((node, left, CHECKED))\n",
    "            if node.right is not None:\n",
    "                logging.debug('in right check, adding node: %s', node.right)\n",
    "                stack.append((node.right, UNCHECKED, UNCHECKED))\n",
    "        else:\n",
    "            logging.debug('current node in stack: %s', [n for n,_,_ in stack])\n",
    "            left_length = 0\n",
    "            right_length = 0\n",
    "            logging.debug('working on the node: %s', node)\n",
    "            if node.left:\n",
    "                logging.debug('node %s has a left node: %s with length: %s', node, node.left, node.left.length)\n",
    "                left_length = node.left.length\n",
    "            if node.right:\n",
    "                logging.debug('node %s has a right node: %s with length: %s', node, node.right, node.right.length)\n",
    "                right_length = node.right.length\n",
    "                \n",
    "            # the length is the max of (left,right) + 1 (current count)\n",
    "            node_length = max(left_length, right_length) +1\n",
    "            logging.debug('node %s set the length to: %s', node, node_length)\n",
    "            # need to remember this for the future use (checking node.left or node.right)\n",
    "            node.length = node_length\n",
    "            # whereve the longest length is the one we need to return later \n",
    "            length = max(length, left_length + right_length)\n",
    "    return length \n",
    "        \n",
    "    \n"
   ]
  },
  {
   "cell_type": "code",
   "execution_count": 5,
   "id": "7f0c0298-9dd1-468b-a376-cf5479aa60cb",
   "metadata": {
    "scrolled": true
   },
   "outputs": [
    {
     "name": "stderr",
     "output_type": "stream",
     "text": [
      "DEBUG:root:in left check, adding node: 2\n",
      "DEBUG:root:in left check, adding node: 4\n",
      "DEBUG:root:current node in stack: [1, 2]\n",
      "DEBUG:root:working on the node: 4\n",
      "DEBUG:root:node 4 set the length to: 1\n",
      "DEBUG:root:in right check, adding node: 5\n",
      "DEBUG:root:current node in stack: [1, 2]\n",
      "DEBUG:root:working on the node: 5\n",
      "DEBUG:root:node 5 set the length to: 1\n",
      "DEBUG:root:current node in stack: [1]\n",
      "DEBUG:root:working on the node: 2\n",
      "DEBUG:root:node 2 has a left node: 4 with length: 1\n",
      "DEBUG:root:node 2 has a right node: 5 with length: 1\n",
      "DEBUG:root:node 2 set the length to: 2\n",
      "DEBUG:root:in right check, adding node: 3\n",
      "DEBUG:root:current node in stack: [1]\n",
      "DEBUG:root:working on the node: 3\n",
      "DEBUG:root:node 3 set the length to: 1\n",
      "DEBUG:root:current node in stack: []\n",
      "DEBUG:root:working on the node: 1\n",
      "DEBUG:root:node 1 has a left node: 2 with length: 2\n",
      "DEBUG:root:node 1 has a right node: 3 with length: 1\n",
      "DEBUG:root:node 1 set the length to: 3\n"
     ]
    },
    {
     "name": "stdout",
     "output_type": "stream",
     "text": [
      "3\n"
     ]
    }
   ],
   "source": [
    "print(binary_tree_length(node1))"
   ]
  },
  {
   "cell_type": "code",
   "execution_count": 6,
   "id": "7ab593dc-8f10-4923-8043-46ad517428d3",
   "metadata": {},
   "outputs": [
    {
     "name": "stderr",
     "output_type": "stream",
     "text": [
      "DEBUG:root:in left check, adding node: 2\n",
      "DEBUG:root:current node in stack: [1]\n",
      "DEBUG:root:working on the node: 2\n",
      "DEBUG:root:node 2 set the length to: 1\n",
      "DEBUG:root:current node in stack: []\n",
      "DEBUG:root:working on the node: 1\n",
      "DEBUG:root:node 1 has a left node: 2 with length: 1\n",
      "DEBUG:root:node 1 set the length to: 2\n"
     ]
    },
    {
     "name": "stdout",
     "output_type": "stream",
     "text": [
      "1\n"
     ]
    }
   ],
   "source": [
    "print(binary_tree_length(node2))\n"
   ]
  },
  {
   "cell_type": "code",
   "execution_count": 7,
   "id": "5a737929-dbd6-46b8-a3ea-c294dbe21f39",
   "metadata": {},
   "outputs": [
    {
     "name": "stderr",
     "output_type": "stream",
     "text": [
      "DEBUG:root:in left check, adding node: 7\n",
      "DEBUG:root:in left check, adding node: 2\n",
      "DEBUG:root:current node in stack: [1, 7]\n",
      "DEBUG:root:working on the node: 2\n",
      "DEBUG:root:node 2 set the length to: 1\n",
      "DEBUG:root:in right check, adding node: 6\n",
      "DEBUG:root:in left check, adding node: 5\n",
      "DEBUG:root:current node in stack: [1, 7, 6]\n",
      "DEBUG:root:working on the node: 5\n",
      "DEBUG:root:node 5 set the length to: 1\n",
      "DEBUG:root:in right check, adding node: 11\n",
      "DEBUG:root:current node in stack: [1, 7, 6]\n",
      "DEBUG:root:working on the node: 11\n",
      "DEBUG:root:node 11 set the length to: 1\n",
      "DEBUG:root:current node in stack: [1, 7]\n",
      "DEBUG:root:working on the node: 6\n",
      "DEBUG:root:node 6 has a left node: 5 with length: 1\n",
      "DEBUG:root:node 6 has a right node: 11 with length: 1\n",
      "DEBUG:root:node 6 set the length to: 2\n",
      "DEBUG:root:current node in stack: [1]\n",
      "DEBUG:root:working on the node: 7\n",
      "DEBUG:root:node 7 has a left node: 2 with length: 1\n",
      "DEBUG:root:node 7 has a right node: 6 with length: 2\n",
      "DEBUG:root:node 7 set the length to: 3\n",
      "DEBUG:root:in right check, adding node: 9\n",
      "DEBUG:root:in right check, adding node: 9\n",
      "DEBUG:root:in left check, adding node: 5\n",
      "DEBUG:root:current node in stack: [1, 9, 9]\n",
      "DEBUG:root:working on the node: 5\n",
      "DEBUG:root:node 5 set the length to: 1\n",
      "DEBUG:root:current node in stack: [1, 9]\n",
      "DEBUG:root:working on the node: 9\n",
      "DEBUG:root:node 9 has a left node: 5 with length: 1\n",
      "DEBUG:root:node 9 set the length to: 2\n",
      "DEBUG:root:current node in stack: [1]\n",
      "DEBUG:root:working on the node: 9\n",
      "DEBUG:root:node 9 has a right node: 9 with length: 2\n",
      "DEBUG:root:node 9 set the length to: 3\n",
      "DEBUG:root:current node in stack: []\n",
      "DEBUG:root:working on the node: 1\n",
      "DEBUG:root:node 1 has a left node: 7 with length: 3\n",
      "DEBUG:root:node 1 has a right node: 9 with length: 3\n",
      "DEBUG:root:node 1 set the length to: 4\n"
     ]
    },
    {
     "name": "stdout",
     "output_type": "stream",
     "text": [
      "6\n"
     ]
    }
   ],
   "source": [
    "print(binary_tree_length(node3))"
   ]
  },
  {
   "cell_type": "code",
   "execution_count": null,
   "id": "3c1d38a2-2d2f-48c0-845e-7d1b1b777cee",
   "metadata": {},
   "outputs": [],
   "source": []
  }
 ],
 "metadata": {
  "kernelspec": {
   "display_name": "Python 3 (ipykernel)",
   "language": "python",
   "name": "python3"
  },
  "language_info": {
   "codemirror_mode": {
    "name": "ipython",
    "version": 3
   },
   "file_extension": ".py",
   "mimetype": "text/x-python",
   "name": "python",
   "nbconvert_exporter": "python",
   "pygments_lexer": "ipython3",
   "version": "3.11.4"
  }
 },
 "nbformat": 4,
 "nbformat_minor": 5
}
