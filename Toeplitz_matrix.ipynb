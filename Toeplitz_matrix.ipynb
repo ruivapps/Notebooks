{
 "cells": [
  {
   "cell_type": "markdown",
   "metadata": {},
   "source": [
    "# Toeplitz Matrix \n",
    "\n",
    "Toeplitz Matrix is a special type of matrix in which each descending diagonal from left to right is constant. For example \n",
    "\n",
    "```python\n",
    "matrix = [\n",
    "    ['a', 'b', 'c', 'd', 'e'],\n",
    "    ['x', 'a', 'b', 'c', 'd'],\n",
    "    ['e', 'x', 'a', 'b', 'c'],\n",
    "    ['b', 'e', 'x', 'a', 'b'],\n",
    "    ['x', 'b', 'e', 'x', 'a'],\n",
    "]\n",
    "\n",
    "matrix2 = [\n",
    "    [1, 2, 3, 4, 5],\n",
    "    [2, 1, 2, 3, 4],\n",
    "    [3, 2, 1, 2, 3],\n",
    "    [4, 3, 2, 1, 2],\n",
    "    [5, 4, 3, 2, 1],\n",
    "]\n",
    "```\n",
    "\n",
    "the element \"a\" in **matrix** and the number \"1\" in matrix2 make them Toepliz Matrix. \n",
    "\n",
    "```\n",
    "['a', , , , ,]\n",
    "[, 'a', , , ,]\n",
    "[, , 'a', , ,]\n",
    "[, , , 'a', ,]\n",
    "[, , , , 'a',]\n",
    "\n",
    "[1, , , 4, ,]\n",
    "[, 1, , , 4,]\n",
    "[, , 1, , ,]\n",
    "[, , , 1, ,]\n",
    "[, , , , 1,]\n",
    "```\n"
   ]
  },
  {
   "cell_type": "code",
   "execution_count": 14,
   "metadata": {},
   "outputs": [],
   "source": [
    "matrix = [\n",
    "    ['a', 'b', 'c', 'd', 'e'],\n",
    "    ['x', 'a', 'b', 'c', 'd'],\n",
    "    ['e', 'x', 'a', 'b', 'c'],\n",
    "    ['b', 'e', 'x', 'a', 'b'],\n",
    "    ['x', 'b', 'e', 'x', 'a'],\n",
    "]\n",
    "\n",
    "matrix2 = [\n",
    "    [1, 2, 3, 4, 5],\n",
    "    [2, 1, 2, 3, 4],\n",
    "    [3, 2, 1, 2, 3],\n",
    "    [4, 3, 2, 1, 2],\n",
    "    [5, 4, 3, 2, 1],\n",
    "]\n",
    "\n",
    "matrix3 = [\n",
    "    [1, 2, 3, 4, 5],\n",
    "    [2, 1, 2, 3, 4],\n",
    "    [3, 2, 2, 2, 3],\n",
    "    [4, 3, 2, 1, 2],\n",
    "    [5, 4, 3, 2, 1],\n",
    "]\n"
   ]
  },
  {
   "cell_type": "code",
   "execution_count": 20,
   "metadata": {},
   "outputs": [],
   "source": [
    "def is_toeplitz(matrix):\n",
    "    \"\"\" check if the matrix is toeplitz\n",
    "    \"\"\"\n",
    "    for array in range(len(matrix)-1):\n",
    "        for item in range(len(matrix[array])-1):\n",
    "            if matrix[array][item] != matrix[array+1][item+1]:\n",
    "                return False\n",
    "    return True"
   ]
  },
  {
   "cell_type": "code",
   "execution_count": 21,
   "metadata": {},
   "outputs": [
    {
     "name": "stdout",
     "output_type": "stream",
     "text": [
      "True\n",
      "True\n",
      "False\n"
     ]
    }
   ],
   "source": [
    "print(is_toeplitz(matrix))\n",
    "print(is_toeplitz(matrix2))\n",
    "print(is_toeplitz(matrix3))"
   ]
  },
  {
   "cell_type": "code",
   "execution_count": 24,
   "metadata": {},
   "outputs": [],
   "source": [
    "from typing import Any\n",
    "def improved_is_toeplitz(matrix:list[list[Any]])->bool:\n",
    "    \"\"\" imporve our toeplitz\n",
    "    \"\"\"\n",
    "    if not isinstance(matrix, list):\n",
    "        raise TypeError('matrix must be a list')\n",
    "    matrix_size = len(matrix)\n",
    "    array_size = len(matrix[0])\n",
    "    for array in matrix:\n",
    "        if not isinstance(array, list):\n",
    "            raise TypeError('each element in matrix must be a list')\n",
    "        if len(array) != array_size:\n",
    "            raise ValueError('the array size is not equal')\n",
    "    for array in range(matrix_size -1):\n",
    "        for item in range(array_size-1):\n",
    "            if matrix[array][item] != matrix[array+1][item+1]:\n",
    "                return False\n",
    "    return True "
   ]
  },
  {
   "cell_type": "code",
   "execution_count": 25,
   "metadata": {},
   "outputs": [
    {
     "name": "stdout",
     "output_type": "stream",
     "text": [
      "True\n",
      "True\n",
      "False\n"
     ]
    }
   ],
   "source": [
    "for m in [matrix, matrix2, matrix3]:\n",
    "    print(improved_is_toeplitz(m))"
   ]
  }
 ],
 "metadata": {
  "kernelspec": {
   "display_name": "Python 3 (ipykernel)",
   "language": "python",
   "name": "python3"
  },
  "language_info": {
   "codemirror_mode": {
    "name": "ipython",
    "version": 3
   },
   "file_extension": ".py",
   "mimetype": "text/x-python",
   "name": "python",
   "nbconvert_exporter": "python",
   "pygments_lexer": "ipython3",
   "version": "3.11.0"
  }
 },
 "nbformat": 4,
 "nbformat_minor": 2
}
