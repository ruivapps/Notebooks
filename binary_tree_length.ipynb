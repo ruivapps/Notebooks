{
 "cells": [
  {
   "cell_type": "markdown",
   "id": "558a7d1a-07c9-4832-a8f0-726dbf774bdf",
   "metadata": {},
   "source": [
    "# Diameter of Binary Tree\n",
    "\n",
    "https://leetcode.com/problems/diameter-of-binary-tree/\n",
    "\n",
    "Given the root of a binary tree, return the length of the diameter of the tree.\n",
    "\n",
    "The diameter of a binary tree is the length of the longest path between any two nodes in a tree. This path may or may not pass through the root.\n",
    "\n",
    "The length of a path between two nodes is represented by the number of edges between them.\n",
    "\n",
    "```\n",
    "Input: root = [1,2,3,4,5]\n",
    "Output: 3\n",
    "Explanation: 3 is the length of the path [4,2,1,3] or [5,2,1,3].\n",
    "\n",
    "Input: root = [1,2]\n",
    "Output: 1\n",
    "```\n"
   ]
  },
  {
   "cell_type": "code",
   "execution_count": 1,
   "id": "322a3be2-247a-4628-9f2c-ee8952f9a34f",
   "metadata": {},
   "outputs": [],
   "source": [
    "class Node:\n",
    "    \"\"\" our node\n",
    "    \"\"\"\n",
    "    def __init__(self, value, left=None, right=None):\n",
    "        self.value = value\n",
    "        self.left = left\n",
    "        self.right = right"
   ]
  },
  {
   "cell_type": "code",
   "execution_count": 2,
   "id": "e84fc203-8d98-4e5e-a490-74620af92b6d",
   "metadata": {},
   "outputs": [],
   "source": [
    "def node_length(node:Node)->int:\n",
    "    \"\"\" find longest path between any node in a tree\n",
    "    \"\"\"\n",
    "    length = 0\n",
    "    if node.left is None and node.right is None:\n",
    "        return length\n",
    "    stack = [node]\n",
    "    while stack:\n",
    "        node_ = stack.pop()\n",
    "        if node_.left is not None:\n",
    "            stack.append(node_.left)\n",
    "            length += 1\n",
    "    if node.right is not None:\n",
    "        stack.append(node)\n",
    "    while stack:\n",
    "        node_ = stack.pop()\n",
    "        if node_.right is not None:\n",
    "            stack.append(node_.right)\n",
    "            length +=1\n",
    "    return length"
   ]
  },
  {
   "cell_type": "code",
   "execution_count": 3,
   "id": "d89ef89f-70ae-4f02-a868-a77536175ea7",
   "metadata": {},
   "outputs": [
    {
     "name": "stdout",
     "output_type": "stream",
     "text": [
      "3\n"
     ]
    }
   ],
   "source": [
    "root = Node(1)\n",
    "root.left = Node(2)\n",
    "root.right = Node(3)\n",
    "root.left.left = Node(4)\n",
    "root.left.right = Node(5)\n",
    "print(node_length(root))"
   ]
  },
  {
   "cell_type": "code",
   "execution_count": 4,
   "id": "47d0ae6a-e150-4031-960f-3aa7325b65c9",
   "metadata": {},
   "outputs": [
    {
     "name": "stdout",
     "output_type": "stream",
     "text": [
      "1\n"
     ]
    }
   ],
   "source": [
    "root = Node(1)\n",
    "root.left = Node(2)\n",
    "print(node_length(root))"
   ]
  },
  {
   "cell_type": "code",
   "execution_count": null,
   "id": "b4001f39-cfa3-48ab-8846-6fccf4929fef",
   "metadata": {},
   "outputs": [],
   "source": []
  }
 ],
 "metadata": {
  "kernelspec": {
   "display_name": "Python 3 (ipykernel)",
   "language": "python",
   "name": "python3"
  },
  "language_info": {
   "codemirror_mode": {
    "name": "ipython",
    "version": 3
   },
   "file_extension": ".py",
   "mimetype": "text/x-python",
   "name": "python",
   "nbconvert_exporter": "python",
   "pygments_lexer": "ipython3",
   "version": "3.11.4"
  }
 },
 "nbformat": 4,
 "nbformat_minor": 5
}
